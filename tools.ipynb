{
 "cells": [
  {
   "cell_type": "code",
   "execution_count": 37,
   "metadata": {},
   "outputs": [
    {
     "name": "stdout",
     "output_type": "stream",
     "text": [
      "[0.8 0.8 0.8 0.6 0.4 0.4 0.6 0.8 0.6 0.4 0.4 0.6 0.8 0.6 0.4 0.4 0.6 0.8\n",
      " 0.6 0.4 0.4 0.6 0.8 0.6 0.4 0.4 0.6 0.8 0.6 0.4 0.4 0.6 0.8 0.6 0.4 0.4\n",
      " 0.6 0.8 0.6 0.4 0.4 0.6 0.8 0.6 0.4 0.4 0.6 0.8 0.6 0.4 0.4 0.6 0.8 0.6\n",
      " 0.4 0.4 0.6 0.8 0.6 0.4 0.4 0.6 0.8 0.6 0.4 0.4 0.6 0.8 0.6 0.4 0.4 0.6\n",
      " 0.8 0.6 0.4 0.4 0.6 0.8 0.6 0.4 0.4 0.6 0.8 0.6 0.4 0.4 0.6 0.8 0.6 0.4\n",
      " 0.4 0.6 0.8 0.6 0.4 0.4 0.6 0.8 0.6 0.4 0.4 0.6 0.8 0.6 0.4 0.4 0.6 0.8\n",
      " 0.6 0.4 0.4 0.6 0.8 0.6 0.4 0.4 0.6 0.8 0.6 0.4 0.4 0.6 0.8 0.6 0.4 0.4\n",
      " 0.6 0.8 0.6 0.4 0.4 0.6 0.8 0.6 0.4 0.4 0.6 0.8 0.6 0.4 0.4 0.6 0.8 0.6\n",
      " 0.4 0.4 0.6 0.8 0.6 0.4 0.4 0.6 0.8 0.6 0.4 0.4 0.6 0.8 0.6 0.4 0.4 0.6\n",
      " 0.8 0.6 0.4 0.4 0.6 0.8 0.6 0.4 0.4 0.6 0.8 0.6 0.4 0.4 0.6 0.8 0.6 0.4\n",
      " 0.4 0.6 0.8 0.6 0.4 0.4 0.6 0.8 0.6 0.4 0.4 0.6 0.8 0.6 0.4 0.4 0.6 0.8\n",
      " 0.8 0.8] 0.5660000000000001\n"
     ]
    }
   ],
   "source": [
    "from sklearn.neighbors import KDTree\n",
    "import numpy as np\n",
    "import datetime\n",
    "\n",
    "def neighbour_hit(coords, target, k=20, return_map=False):\n",
    "    coords  = np.array(coords)\n",
    "    #build kd tree for fast k-nearest neighbour search\n",
    "    tree = KDTree(coords, leaf_size=2)\n",
    "    \n",
    "    #find k nearest neighour for every point, exclude the query point\n",
    "    dist, ind = tree.query(coords, k=k + 1)\n",
    "    \n",
    "    l = len(coords)\n",
    "    ret = np.zeros(l)\n",
    "    #count the nh valuse \n",
    "    for i in range(l):\n",
    "        for j in range(k):\n",
    "            # (false, true)[condition]\n",
    "            ind[i][j] = (0, 1)[target[ind[i][j]] == target[i]]\n",
    "            ret[i] += ind[i][j]\n",
    "    ret = (ret - 1) / k\n",
    "    if return_map:\n",
    "        return ret, ret.mean(), ind\n",
    "    return ret, ret.mean()\n",
    "\n",
    "#test nh\n",
    "l = 200\n",
    "coords = []\n",
    "target = []\n",
    "for i in range(l):\n",
    "    coords.append([i,i,i])\n",
    "    target.append(i // 5)\n",
    "\n",
    "nhc, nhc_mean = neighbour_hit(coords, target, k=5)\n",
    "print(nhc, nhc_mean)"
   ]
  },
  {
   "cell_type": "code",
   "execution_count": 24,
   "metadata": {},
   "outputs": [
    {
     "name": "stdout",
     "output_type": "stream",
     "text": [
      "[array([0.5488135 , 0.71518937, 0.60276338]), array([0.54488318, 0.4236548 , 0.64589411]), array([0.43758721, 0.891773  , 0.96366276]), array([0.38344152, 0.79172504, 0.52889492]), array([0.56804456, 0.92559664, 0.07103606]), array([0.0871293 , 0.0202184 , 0.83261985]), array([0.77815675, 0.87001215, 0.97861834]), array([0.79915856, 0.46147936, 0.78052918]), array([0.11827443, 0.63992102, 0.14335329]), array([0.94466892, 0.52184832, 0.41466194])]\n"
     ]
    }
   ],
   "source": [
    "rng = np.random.RandomState(0)\n",
    "X = rng.random_sample((10, 3))"
   ]
  }
 ],
 "metadata": {
  "kernelspec": {
   "display_name": "Python 3",
   "language": "python",
   "name": "python3"
  },
  "language_info": {
   "codemirror_mode": {
    "name": "ipython",
    "version": 3
   },
   "file_extension": ".py",
   "mimetype": "text/x-python",
   "name": "python",
   "nbconvert_exporter": "python",
   "pygments_lexer": "ipython3",
   "version": "3.7.4"
  }
 },
 "nbformat": 4,
 "nbformat_minor": 2
}
